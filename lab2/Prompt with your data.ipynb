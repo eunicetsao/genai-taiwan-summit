{
 "cells": [
  {
   "cell_type": "markdown",
   "id": "0f93e7cf",
   "metadata": {},
   "source": [
    "## Set up a cross account profile(Experiments)\n",
    "\n",
    "Similar to the preceding stages, conducting cross-account testing can be achieved by trying to access a different Sagemaker Endpoint. \n",
    "\n",
    "However, modifying your Sagemaker client to enable calling the Amazon Sagemaker endpoint from various AWS accounts may present certain limitations and security risks. These may involve concerns regarding permissions and access control, as well as potential security vulnerabilities associated with cross-account communication. As a result, it is advisable to exercise prudence and restrict the utilization of this feature solely for testing purposes.\n",
    "\n",
    "![alt sagemaker terminal](sagemaker_terminal.png)"
   ]
  },
  {
   "cell_type": "markdown",
   "id": "ad5fdd9b",
   "metadata": {},
   "source": [
    "Follow the instructions provided by the workshop instructor.\n",
    "\n",
    "To call the endpoint from another AWS account, you need to create an AWS credentials profile. For instance, you can set up a profile named `cross_account_endpoint`\n",
    "\n",
    "```commandline\n",
    "sh-4.2$ aws configure --profile cross_account_endpoint\n",
    "AWS Access Key ID [None]: [Your Access ID]\n",
    "AWS Secret Access Key [None]: [Your Secret Access Key]\n",
    "Default region name [None]: us-east-1\n",
    "Default output format [None]: json\n",
    "```\n",
    "\n",
    "Confirm that your profile has been set up successfully."
   ]
  },
  {
   "cell_type": "code",
   "execution_count": null,
   "id": "8499f344",
   "metadata": {},
   "outputs": [],
   "source": [
    "!aws configure get region --profile cross_account_endpoint"
   ]
  },
  {
   "cell_type": "markdown",
   "id": "ae473077",
   "metadata": {},
   "source": [
    "## Choose up your endpoint name\n",
    "\n",
    "Please either copy your own endpoint name."
   ]
  },
  {
   "cell_type": "markdown",
   "id": "e57b6146",
   "metadata": {},
   "source": [
    "### Create a Sagemaker Client\n",
    "\n",
    "Use  your current AWS credentials"
   ]
  },
  {
   "cell_type": "code",
   "execution_count": null,
   "id": "22564fcb",
   "metadata": {
    "jupyter": {
     "outputs_hidden": false
    }
   },
   "outputs": [],
   "source": [
    "import boto3\n",
    "ENDPOINT_NAME = '[Sagemaker Endpoint You just deployed]'\n",
    "client = boto3.client(\"runtime.sagemaker\")"
   ]
  },
  {
   "cell_type": "markdown",
   "id": "5d70532c",
   "metadata": {},
   "source": [
    "You can also choose to use the account provided by other profile. e.g. `cross_account_endpoint`\n",
    "\n",
    "Please uncomment the follow cell if want to try it."
   ]
  },
  {
   "cell_type": "code",
   "execution_count": null,
   "id": "a0afa7aa",
   "metadata": {
    "jupyter": {
     "outputs_hidden": false
    }
   },
   "outputs": [],
   "source": [
    "import boto3\n",
    "ENDPOINT_NAME = '[Sagemaker Endpoint on the cross account]'\n",
    "session = boto3.Session(profile_name='cross_account_endpoint')\n",
    "client = session.client(\"runtime.sagemaker\",)"
   ]
  },
  {
   "cell_type": "code",
   "execution_count": null,
   "id": "47c361a2",
   "metadata": {},
   "outputs": [],
   "source": [
    "import json\n",
    "\n",
    "def query_endpoint_and_parse_response(payload_dict, endpoint_name):\n",
    "    encoded_json = json.dumps(payload_dict).encode(\"utf-8\")\n",
    "\n",
    "    response = client.invoke_endpoint(\n",
    "        EndpointName=endpoint_name, ContentType=\"application/json\", Body=encoded_json\n",
    "    )\n",
    "\n",
    "    return json.loads(response['Body'].read().decode())[0]['generated_text']\n",
    "\n"
   ]
  },
  {
   "cell_type": "markdown",
   "id": "6b385633",
   "metadata": {},
   "source": [
    "## Set up model parameters\n",
    "\n",
    "\n",
    "The following parameters are available for controlling text generation using the GenerationConfig class:\n",
    "\n",
    "- do_sample (bool, optional, defaults to False): Determines whether to use sampling or greedy decoding.\n",
    "- temperature (float, optional, defaults to 1.0): Modulates the next token probabilities.\n",
    "- max_new_tokens (int, optional): Sets the maximum number of tokens to generate, excluding those in the prompt.\n",
    "- top_k (int, optional, defaults to 50): Sets the number of highest probability vocabulary tokens to keep using top-k filtering.\n",
    "- top_p (float, optional, defaults to 1.0): When set to a float less than 1, only the smallest set of most probable tokens with probabilities that add up to top_p or higher are kept for generation.\n",
    "\n",
    "For a complete list of available parameters and their descriptions, refer to the GenerationConfig class documentation at https://huggingface.co/docs/transformers/v4.30.0/main_classes/text_generation."
   ]
  },
  {
   "cell_type": "code",
   "execution_count": null,
   "id": "78b53b52",
   "metadata": {},
   "outputs": [],
   "source": [
    "parameters = {\n",
    "    \"max_new_tokens\": 200,\n",
    "    \"top_k\": 5,\n",
    "    \"top_p\": .15,\n",
    "    \"do_sample\": True,\n",
    "    \"temperature\": 0.01\n",
    "}\n"
   ]
  },
  {
   "cell_type": "markdown",
   "id": "1882afb9",
   "metadata": {},
   "source": [
    "## Prompt with layman inputs"
   ]
  },
  {
   "cell_type": "code",
   "execution_count": null,
   "id": "f7342788",
   "metadata": {},
   "outputs": [],
   "source": [
    "prompt_data = \"\"\"\n",
    "I have a table called patient with fields ID, AGE, WEIGHT, HEIGHT. \n",
    "Write me a SQL Query which will return the entry with the highest age\n",
    "\n",
    "\"\"\"  #If you'd like to try your own prompt, edit this parameter!"
   ]
  },
  {
   "cell_type": "code",
   "execution_count": null,
   "id": "cceb0093",
   "metadata": {},
   "outputs": [],
   "source": [
    "payload = {\"inputs\": prompt_data, \"parameters\": parameters}\n",
    "generated_texts = query_endpoint_and_parse_response(payload, ENDPOINT_NAME)"
   ]
  },
  {
   "cell_type": "code",
   "execution_count": null,
   "id": "a0213e81",
   "metadata": {},
   "outputs": [],
   "source": [
    "print(f\"Result: {generated_texts}\")"
   ]
  },
  {
   "cell_type": "markdown",
   "id": "140baee2",
   "metadata": {},
   "source": [
    "## Prompt with Table Schema"
   ]
  },
  {
   "cell_type": "code",
   "execution_count": null,
   "id": "668ba736",
   "metadata": {},
   "outputs": [],
   "source": [
    "import json\n",
    "\n",
    "payload = \"\"\"You are an export of Presto Database.Your tasks is to generate a SQL query\n",
    "\n",
    "Pay attention to use only the column names that you can see in the schema description. \n",
    "Be careful to not query for columns that do not exist. Also, pay attention to which column is in which table.\n",
    "\n",
    "Your Table sales schema as follows:\n",
    "\n",
    "CREATE EXTERNAL TABLE sales (\n",
    "\ttransaction_date DATE COMMENT 'Transaction date',\n",
    "\tuser_id STRING COMMENT 'The user who make the purchase',\n",
    "\tproduct STRING COMMENT product name, e.g \"Fruits\", \"Ice cream\", \"Milk\",\n",
    "\tprice DOUBLE COMMENT 'The price of the product'\n",
    ")\n",
    "\n",
    "Question: What is total sale amount of Fruits\n",
    "SQLQuery:\n",
    "\n",
    "\"\"\"\n"
   ]
  },
  {
   "cell_type": "code",
   "execution_count": null,
   "id": "156e3e84",
   "metadata": {},
   "outputs": [],
   "source": [
    "payload = {\"inputs\": payload, \"parameters\": parameters}\n",
    "generated_texts = query_endpoint_and_parse_response(payload, ENDPOINT_NAME)"
   ]
  },
  {
   "cell_type": "code",
   "execution_count": null,
   "id": "479b7e10",
   "metadata": {},
   "outputs": [],
   "source": [
    "print(f\"Result: {generated_texts}\")"
   ]
  },
  {
   "cell_type": "markdown",
   "id": "371bbb3a",
   "metadata": {},
   "source": [
    "### Another example\n",
    "\n",
    "Can we join a table?"
   ]
  },
  {
   "cell_type": "code",
   "execution_count": null,
   "id": "eb484c54",
   "metadata": {},
   "outputs": [],
   "source": [
    "payload = \"\"\"\n",
    "You are an export of MySQL Database.Your tasks is to generate a SQL query\n",
    "\n",
    "Pay attention to use only the column names that you can see in the schema description. \n",
    "Be careful to not query for columns that do not exist. Also, pay attention to which column is in which table.\n",
    "\n",
    "Your Table sales schema as follows:\n",
    "\n",
    "CREATE EXTERNAL TABLE sales (\n",
    "    transaction_date DATE COMMENT 'the transaction date in the format yyyy-mm-dd'\n",
    "\tuser_id STRING COMMENT 'The user who make the purchase',\n",
    "\tproduct STRING COMMENT product name, e.g \"Fruits\", \"Ice cream\", \"Milk\",\n",
    "\tsales_amount DOUBLE COMMENT 'The price of the product'\n",
    ")\n",
    "\n",
    "Your Table users schema as follows\n",
    "\n",
    "CREATE EXTERNAL TABLE users (\n",
    "\tuser_id STRING COMMENT 'user id',\n",
    "\tname STRING COMMENT User name\n",
    ")\n",
    "\n",
    "Question: What is total purchase done by \"John\"\n",
    "SQLQuery:\n",
    "\"\"\""
   ]
  },
  {
   "cell_type": "code",
   "execution_count": null,
   "id": "dee53772",
   "metadata": {},
   "outputs": [],
   "source": [
    "payload = {\"inputs\": payload, \"parameters\": parameters}\n",
    "generated_texts = query_endpoint_and_parse_response(payload, ENDPOINT_NAME)"
   ]
  },
  {
   "cell_type": "code",
   "execution_count": null,
   "id": "d4d69784",
   "metadata": {},
   "outputs": [],
   "source": [
    "print(f\"Result: {generated_texts}\")"
   ]
  },
  {
   "cell_type": "code",
   "execution_count": null,
   "id": "e8b64614",
   "metadata": {},
   "outputs": [],
   "source": []
  }
 ],
 "metadata": {
  "kernelspec": {
   "display_name": "conda_python3",
   "language": "python",
   "name": "conda_python3"
  },
  "language_info": {
   "codemirror_mode": {
    "name": "ipython",
    "version": 3
   },
   "file_extension": ".py",
   "mimetype": "text/x-python",
   "name": "python",
   "nbconvert_exporter": "python",
   "pygments_lexer": "ipython3",
   "version": "3.10.10"
  }
 },
 "nbformat": 4,
 "nbformat_minor": 5
}
